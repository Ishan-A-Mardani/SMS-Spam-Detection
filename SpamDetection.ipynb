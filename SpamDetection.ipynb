{
  "metadata": {
    "kernelspec": {
      "language": "python",
      "display_name": "Python 3",
      "name": "python3"
    },
    "language_info": {
      "name": "python",
      "version": "3.10.13",
      "mimetype": "text/x-python",
      "codemirror_mode": {
        "name": "ipython",
        "version": 3
      },
      "pygments_lexer": "ipython3",
      "nbconvert_exporter": "python",
      "file_extension": ".py"
    },
    "kaggle": {
      "accelerator": "none",
      "dataSources": [
        {
          "sourceId": 982,
          "sourceType": "datasetVersion",
          "datasetId": 483
        }
      ],
      "dockerImageVersionId": 30732,
      "isInternetEnabled": true,
      "language": "python",
      "sourceType": "notebook",
      "isGpuEnabled": false
    },
    "colab": {
      "provenance": [],
      "include_colab_link": true
    }
  },
  "nbformat_minor": 0,
  "nbformat": 4,
  "cells": [
    {
      "cell_type": "markdown",
      "metadata": {
        "id": "view-in-github",
        "colab_type": "text"
      },
      "source": [
        "<a href=\"https://colab.research.google.com/github/Ishan-A-Mardani/SMS-Spam-Detection/blob/main/SpamDetection.ipynb\" target=\"_parent\"><img src=\"https://colab.research.google.com/assets/colab-badge.svg\" alt=\"Open In Colab\"/></a>"
      ]
    },
    {
      "cell_type": "markdown",
      "source": [
        "# Importing all essential libraries"
      ],
      "metadata": {
        "id": "RojRtxQbrBpD"
      }
    },
    {
      "cell_type": "code",
      "source": [
        "import pandas as pd\n",
        "import numpy as np\n",
        "import matplotlib.pyplot as plt\n",
        "import seaborn as sbn\n",
        "import string\n",
        "import re\n",
        "\n",
        "import nltk\n",
        "from nltk.corpus import stopwords, wordnet\n",
        "from nltk.stem import WordNetLemmatizer, PorterStemmer\n",
        "from nltk.tokenize import word_tokenize, sent_tokenize\n",
        "from nltk import pos_tag\n",
        "\n",
        "import gensim\n",
        "from gensim.utils import simple_preprocess\n",
        "from gensim.models import Word2Vec\n",
        "\n",
        "from sklearn.model_selection import train_test_split\n",
        "from sklearn.linear_model import LogisticRegression, SGDClassifier\n",
        "from sklearn.tree import DecisionTreeClassifier\n",
        "from sklearn.ensemble import RandomForestClassifier\n",
        "from sklearn.ensemble import ExtraTreesClassifier\n",
        "from sklearn.neighbors import KNeighborsClassifier\n",
        "from sklearn.neural_network import MLPClassifier\n",
        "from sklearn.svm import SVC\n",
        "from sklearn.naive_bayes import GaussianNB\n",
        "from xgboost import XGBClassifier, XGBRFClassifier\n",
        "from lightgbm import LGBMClassifier\n",
        "from sklearn.metrics import accuracy_score,confusion_matrix,classification_report\n",
        "\n",
        "from sklearn.feature_extraction.text import TfidfVectorizer\n",
        "from sklearn.pipeline import Pipeline\n",
        "\n",
        "from keras.layers import Embedding, Dense, LSTM\n",
        "from keras.models import Sequential\n",
        "from keras.preprocessing.sequence import pad_sequences\n",
        "from keras.preprocessing.text import Tokenizer\n"
      ],
      "metadata": {
        "execution": {
          "iopub.status.busy": "2024-06-12T12:01:40.147448Z",
          "iopub.execute_input": "2024-06-12T12:01:40.147918Z",
          "iopub.status.idle": "2024-06-12T12:01:59.117054Z",
          "shell.execute_reply.started": "2024-06-12T12:01:40.147877Z",
          "shell.execute_reply": "2024-06-12T12:01:59.11578Z"
        },
        "trusted": true,
        "id": "LMpu8flHrBpP"
      },
      "execution_count": 212,
      "outputs": []
    },
    {
      "cell_type": "markdown",
      "source": [
        "# Importing data from csv file"
      ],
      "metadata": {
        "id": "HORyw0JbrBpS"
      }
    },
    {
      "cell_type": "code",
      "source": [
        "pip install chardet"
      ],
      "metadata": {
        "colab": {
          "base_uri": "https://localhost:8080/"
        },
        "id": "oMKJhOLi-c6Y",
        "outputId": "6feccef7-4ede-4d31-d0b4-8fb0772804b0"
      },
      "execution_count": 36,
      "outputs": [
        {
          "output_type": "stream",
          "name": "stdout",
          "text": [
            "Requirement already satisfied: chardet in /usr/local/lib/python3.10/dist-packages (5.2.0)\n"
          ]
        }
      ]
    },
    {
      "cell_type": "code",
      "source": [
        "import chardet\n",
        "\n",
        "with open(r\"spam.csv\", 'rb') as f:\n",
        "    result = chardet.detect(f.read())\n",
        "    encoding = result['encoding']\n",
        "\n",
        "df = pd.read_csv(r\"spam.csv\",encoding=encoding)\n",
        "df.head()"
      ],
      "metadata": {
        "execution": {
          "iopub.status.busy": "2024-06-12T12:09:01.602555Z",
          "iopub.execute_input": "2024-06-12T12:09:01.602984Z",
          "iopub.status.idle": "2024-06-12T12:09:06.454103Z",
          "shell.execute_reply.started": "2024-06-12T12:09:01.602954Z",
          "shell.execute_reply": "2024-06-12T12:09:06.452798Z"
        },
        "trusted": true,
        "id": "PgR_Q01_rBpU",
        "colab": {
          "base_uri": "https://localhost:8080/",
          "height": 206
        },
        "outputId": "a09a4fcc-3eb0-4810-a8ee-e77b25082c4f"
      },
      "execution_count": 37,
      "outputs": [
        {
          "output_type": "execute_result",
          "data": {
            "text/plain": [
              "     v1                                                 v2 Unnamed: 2  \\\n",
              "0   ham  Go until jurong point, crazy.. Available only ...        NaN   \n",
              "1   ham                      Ok lar... Joking wif u oni...        NaN   \n",
              "2  spam  Free entry in 2 a wkly comp to win FA Cup fina...        NaN   \n",
              "3   ham  U dun say so early hor... U c already then say...        NaN   \n",
              "4   ham  Nah I don't think he goes to usf, he lives aro...        NaN   \n",
              "\n",
              "  Unnamed: 3 Unnamed: 4  \n",
              "0        NaN        NaN  \n",
              "1        NaN        NaN  \n",
              "2        NaN        NaN  \n",
              "3        NaN        NaN  \n",
              "4        NaN        NaN  "
            ],
            "text/html": [
              "\n",
              "  <div id=\"df-827f59db-1d38-4a6a-9d42-53f75f0a18c8\" class=\"colab-df-container\">\n",
              "    <div>\n",
              "<style scoped>\n",
              "    .dataframe tbody tr th:only-of-type {\n",
              "        vertical-align: middle;\n",
              "    }\n",
              "\n",
              "    .dataframe tbody tr th {\n",
              "        vertical-align: top;\n",
              "    }\n",
              "\n",
              "    .dataframe thead th {\n",
              "        text-align: right;\n",
              "    }\n",
              "</style>\n",
              "<table border=\"1\" class=\"dataframe\">\n",
              "  <thead>\n",
              "    <tr style=\"text-align: right;\">\n",
              "      <th></th>\n",
              "      <th>v1</th>\n",
              "      <th>v2</th>\n",
              "      <th>Unnamed: 2</th>\n",
              "      <th>Unnamed: 3</th>\n",
              "      <th>Unnamed: 4</th>\n",
              "    </tr>\n",
              "  </thead>\n",
              "  <tbody>\n",
              "    <tr>\n",
              "      <th>0</th>\n",
              "      <td>ham</td>\n",
              "      <td>Go until jurong point, crazy.. Available only ...</td>\n",
              "      <td>NaN</td>\n",
              "      <td>NaN</td>\n",
              "      <td>NaN</td>\n",
              "    </tr>\n",
              "    <tr>\n",
              "      <th>1</th>\n",
              "      <td>ham</td>\n",
              "      <td>Ok lar... Joking wif u oni...</td>\n",
              "      <td>NaN</td>\n",
              "      <td>NaN</td>\n",
              "      <td>NaN</td>\n",
              "    </tr>\n",
              "    <tr>\n",
              "      <th>2</th>\n",
              "      <td>spam</td>\n",
              "      <td>Free entry in 2 a wkly comp to win FA Cup fina...</td>\n",
              "      <td>NaN</td>\n",
              "      <td>NaN</td>\n",
              "      <td>NaN</td>\n",
              "    </tr>\n",
              "    <tr>\n",
              "      <th>3</th>\n",
              "      <td>ham</td>\n",
              "      <td>U dun say so early hor... U c already then say...</td>\n",
              "      <td>NaN</td>\n",
              "      <td>NaN</td>\n",
              "      <td>NaN</td>\n",
              "    </tr>\n",
              "    <tr>\n",
              "      <th>4</th>\n",
              "      <td>ham</td>\n",
              "      <td>Nah I don't think he goes to usf, he lives aro...</td>\n",
              "      <td>NaN</td>\n",
              "      <td>NaN</td>\n",
              "      <td>NaN</td>\n",
              "    </tr>\n",
              "  </tbody>\n",
              "</table>\n",
              "</div>\n",
              "    <div class=\"colab-df-buttons\">\n",
              "\n",
              "  <div class=\"colab-df-container\">\n",
              "    <button class=\"colab-df-convert\" onclick=\"convertToInteractive('df-827f59db-1d38-4a6a-9d42-53f75f0a18c8')\"\n",
              "            title=\"Convert this dataframe to an interactive table.\"\n",
              "            style=\"display:none;\">\n",
              "\n",
              "  <svg xmlns=\"http://www.w3.org/2000/svg\" height=\"24px\" viewBox=\"0 -960 960 960\">\n",
              "    <path d=\"M120-120v-720h720v720H120Zm60-500h600v-160H180v160Zm220 220h160v-160H400v160Zm0 220h160v-160H400v160ZM180-400h160v-160H180v160Zm440 0h160v-160H620v160ZM180-180h160v-160H180v160Zm440 0h160v-160H620v160Z\"/>\n",
              "  </svg>\n",
              "    </button>\n",
              "\n",
              "  <style>\n",
              "    .colab-df-container {\n",
              "      display:flex;\n",
              "      gap: 12px;\n",
              "    }\n",
              "\n",
              "    .colab-df-convert {\n",
              "      background-color: #E8F0FE;\n",
              "      border: none;\n",
              "      border-radius: 50%;\n",
              "      cursor: pointer;\n",
              "      display: none;\n",
              "      fill: #1967D2;\n",
              "      height: 32px;\n",
              "      padding: 0 0 0 0;\n",
              "      width: 32px;\n",
              "    }\n",
              "\n",
              "    .colab-df-convert:hover {\n",
              "      background-color: #E2EBFA;\n",
              "      box-shadow: 0px 1px 2px rgba(60, 64, 67, 0.3), 0px 1px 3px 1px rgba(60, 64, 67, 0.15);\n",
              "      fill: #174EA6;\n",
              "    }\n",
              "\n",
              "    .colab-df-buttons div {\n",
              "      margin-bottom: 4px;\n",
              "    }\n",
              "\n",
              "    [theme=dark] .colab-df-convert {\n",
              "      background-color: #3B4455;\n",
              "      fill: #D2E3FC;\n",
              "    }\n",
              "\n",
              "    [theme=dark] .colab-df-convert:hover {\n",
              "      background-color: #434B5C;\n",
              "      box-shadow: 0px 1px 3px 1px rgba(0, 0, 0, 0.15);\n",
              "      filter: drop-shadow(0px 1px 2px rgba(0, 0, 0, 0.3));\n",
              "      fill: #FFFFFF;\n",
              "    }\n",
              "  </style>\n",
              "\n",
              "    <script>\n",
              "      const buttonEl =\n",
              "        document.querySelector('#df-827f59db-1d38-4a6a-9d42-53f75f0a18c8 button.colab-df-convert');\n",
              "      buttonEl.style.display =\n",
              "        google.colab.kernel.accessAllowed ? 'block' : 'none';\n",
              "\n",
              "      async function convertToInteractive(key) {\n",
              "        const element = document.querySelector('#df-827f59db-1d38-4a6a-9d42-53f75f0a18c8');\n",
              "        const dataTable =\n",
              "          await google.colab.kernel.invokeFunction('convertToInteractive',\n",
              "                                                    [key], {});\n",
              "        if (!dataTable) return;\n",
              "\n",
              "        const docLinkHtml = 'Like what you see? Visit the ' +\n",
              "          '<a target=\"_blank\" href=https://colab.research.google.com/notebooks/data_table.ipynb>data table notebook</a>'\n",
              "          + ' to learn more about interactive tables.';\n",
              "        element.innerHTML = '';\n",
              "        dataTable['output_type'] = 'display_data';\n",
              "        await google.colab.output.renderOutput(dataTable, element);\n",
              "        const docLink = document.createElement('div');\n",
              "        docLink.innerHTML = docLinkHtml;\n",
              "        element.appendChild(docLink);\n",
              "      }\n",
              "    </script>\n",
              "  </div>\n",
              "\n",
              "\n",
              "<div id=\"df-f2b058cf-09f6-46c9-9e7e-7181d04cbb2c\">\n",
              "  <button class=\"colab-df-quickchart\" onclick=\"quickchart('df-f2b058cf-09f6-46c9-9e7e-7181d04cbb2c')\"\n",
              "            title=\"Suggest charts\"\n",
              "            style=\"display:none;\">\n",
              "\n",
              "<svg xmlns=\"http://www.w3.org/2000/svg\" height=\"24px\"viewBox=\"0 0 24 24\"\n",
              "     width=\"24px\">\n",
              "    <g>\n",
              "        <path d=\"M19 3H5c-1.1 0-2 .9-2 2v14c0 1.1.9 2 2 2h14c1.1 0 2-.9 2-2V5c0-1.1-.9-2-2-2zM9 17H7v-7h2v7zm4 0h-2V7h2v10zm4 0h-2v-4h2v4z\"/>\n",
              "    </g>\n",
              "</svg>\n",
              "  </button>\n",
              "\n",
              "<style>\n",
              "  .colab-df-quickchart {\n",
              "      --bg-color: #E8F0FE;\n",
              "      --fill-color: #1967D2;\n",
              "      --hover-bg-color: #E2EBFA;\n",
              "      --hover-fill-color: #174EA6;\n",
              "      --disabled-fill-color: #AAA;\n",
              "      --disabled-bg-color: #DDD;\n",
              "  }\n",
              "\n",
              "  [theme=dark] .colab-df-quickchart {\n",
              "      --bg-color: #3B4455;\n",
              "      --fill-color: #D2E3FC;\n",
              "      --hover-bg-color: #434B5C;\n",
              "      --hover-fill-color: #FFFFFF;\n",
              "      --disabled-bg-color: #3B4455;\n",
              "      --disabled-fill-color: #666;\n",
              "  }\n",
              "\n",
              "  .colab-df-quickchart {\n",
              "    background-color: var(--bg-color);\n",
              "    border: none;\n",
              "    border-radius: 50%;\n",
              "    cursor: pointer;\n",
              "    display: none;\n",
              "    fill: var(--fill-color);\n",
              "    height: 32px;\n",
              "    padding: 0;\n",
              "    width: 32px;\n",
              "  }\n",
              "\n",
              "  .colab-df-quickchart:hover {\n",
              "    background-color: var(--hover-bg-color);\n",
              "    box-shadow: 0 1px 2px rgba(60, 64, 67, 0.3), 0 1px 3px 1px rgba(60, 64, 67, 0.15);\n",
              "    fill: var(--button-hover-fill-color);\n",
              "  }\n",
              "\n",
              "  .colab-df-quickchart-complete:disabled,\n",
              "  .colab-df-quickchart-complete:disabled:hover {\n",
              "    background-color: var(--disabled-bg-color);\n",
              "    fill: var(--disabled-fill-color);\n",
              "    box-shadow: none;\n",
              "  }\n",
              "\n",
              "  .colab-df-spinner {\n",
              "    border: 2px solid var(--fill-color);\n",
              "    border-color: transparent;\n",
              "    border-bottom-color: var(--fill-color);\n",
              "    animation:\n",
              "      spin 1s steps(1) infinite;\n",
              "  }\n",
              "\n",
              "  @keyframes spin {\n",
              "    0% {\n",
              "      border-color: transparent;\n",
              "      border-bottom-color: var(--fill-color);\n",
              "      border-left-color: var(--fill-color);\n",
              "    }\n",
              "    20% {\n",
              "      border-color: transparent;\n",
              "      border-left-color: var(--fill-color);\n",
              "      border-top-color: var(--fill-color);\n",
              "    }\n",
              "    30% {\n",
              "      border-color: transparent;\n",
              "      border-left-color: var(--fill-color);\n",
              "      border-top-color: var(--fill-color);\n",
              "      border-right-color: var(--fill-color);\n",
              "    }\n",
              "    40% {\n",
              "      border-color: transparent;\n",
              "      border-right-color: var(--fill-color);\n",
              "      border-top-color: var(--fill-color);\n",
              "    }\n",
              "    60% {\n",
              "      border-color: transparent;\n",
              "      border-right-color: var(--fill-color);\n",
              "    }\n",
              "    80% {\n",
              "      border-color: transparent;\n",
              "      border-right-color: var(--fill-color);\n",
              "      border-bottom-color: var(--fill-color);\n",
              "    }\n",
              "    90% {\n",
              "      border-color: transparent;\n",
              "      border-bottom-color: var(--fill-color);\n",
              "    }\n",
              "  }\n",
              "</style>\n",
              "\n",
              "  <script>\n",
              "    async function quickchart(key) {\n",
              "      const quickchartButtonEl =\n",
              "        document.querySelector('#' + key + ' button');\n",
              "      quickchartButtonEl.disabled = true;  // To prevent multiple clicks.\n",
              "      quickchartButtonEl.classList.add('colab-df-spinner');\n",
              "      try {\n",
              "        const charts = await google.colab.kernel.invokeFunction(\n",
              "            'suggestCharts', [key], {});\n",
              "      } catch (error) {\n",
              "        console.error('Error during call to suggestCharts:', error);\n",
              "      }\n",
              "      quickchartButtonEl.classList.remove('colab-df-spinner');\n",
              "      quickchartButtonEl.classList.add('colab-df-quickchart-complete');\n",
              "    }\n",
              "    (() => {\n",
              "      let quickchartButtonEl =\n",
              "        document.querySelector('#df-f2b058cf-09f6-46c9-9e7e-7181d04cbb2c button');\n",
              "      quickchartButtonEl.style.display =\n",
              "        google.colab.kernel.accessAllowed ? 'block' : 'none';\n",
              "    })();\n",
              "  </script>\n",
              "</div>\n",
              "\n",
              "    </div>\n",
              "  </div>\n"
            ],
            "application/vnd.google.colaboratory.intrinsic+json": {
              "type": "dataframe",
              "variable_name": "df",
              "summary": "{\n  \"name\": \"df\",\n  \"rows\": 5572,\n  \"fields\": [\n    {\n      \"column\": \"v1\",\n      \"properties\": {\n        \"dtype\": \"category\",\n        \"num_unique_values\": 2,\n        \"samples\": [\n          \"spam\",\n          \"ham\"\n        ],\n        \"semantic_type\": \"\",\n        \"description\": \"\"\n      }\n    },\n    {\n      \"column\": \"v2\",\n      \"properties\": {\n        \"dtype\": \"string\",\n        \"num_unique_values\": 5169,\n        \"samples\": [\n          \"Did u download the fring app?\",\n          \"Pass dis to all ur contacts n see wat u get! Red;i'm in luv wid u. Blue;u put a smile on my face. Purple;u r realy hot. Pink;u r so swt. Orange;i thnk i lyk u. Green;i realy wana go out wid u. Yelow;i wnt u bck. Black;i'm jealous of u. Brown;i miss you Nw plz giv me one color\"\n        ],\n        \"semantic_type\": \"\",\n        \"description\": \"\"\n      }\n    },\n    {\n      \"column\": \"Unnamed: 2\",\n      \"properties\": {\n        \"dtype\": \"category\",\n        \"num_unique_values\": 43,\n        \"samples\": [\n          \" GOD said\",\n          \" SHE SHUDVETOLD U. DID URGRAN KNOW?NEWAY\"\n        ],\n        \"semantic_type\": \"\",\n        \"description\": \"\"\n      }\n    },\n    {\n      \"column\": \"Unnamed: 3\",\n      \"properties\": {\n        \"dtype\": \"category\",\n        \"num_unique_values\": 10,\n        \"samples\": [\n          \" \\\\\\\"OH No! COMPETITION\\\\\\\". Who knew\",\n          \" why to miss them\"\n        ],\n        \"semantic_type\": \"\",\n        \"description\": \"\"\n      }\n    },\n    {\n      \"column\": \"Unnamed: 4\",\n      \"properties\": {\n        \"dtype\": \"category\",\n        \"num_unique_values\": 5,\n        \"samples\": [\n          \"GNT:-)\\\"\",\n          \" one day these two will become FREINDS FOREVER!\\\"\"\n        ],\n        \"semantic_type\": \"\",\n        \"description\": \"\"\n      }\n    }\n  ]\n}"
            }
          },
          "metadata": {},
          "execution_count": 37
        }
      ]
    },
    {
      "cell_type": "code",
      "source": [
        "df.shape"
      ],
      "metadata": {
        "execution": {
          "iopub.status.busy": "2024-06-12T12:09:06.456594Z",
          "iopub.execute_input": "2024-06-12T12:09:06.457074Z",
          "iopub.status.idle": "2024-06-12T12:09:06.46462Z",
          "shell.execute_reply.started": "2024-06-12T12:09:06.457026Z",
          "shell.execute_reply": "2024-06-12T12:09:06.463289Z"
        },
        "trusted": true,
        "id": "mqlZVr8vrBpW",
        "colab": {
          "base_uri": "https://localhost:8080/"
        },
        "outputId": "238f7ff5-6dae-486f-9f12-9f9c564ac5bb"
      },
      "execution_count": 38,
      "outputs": [
        {
          "output_type": "execute_result",
          "data": {
            "text/plain": [
              "(5572, 5)"
            ]
          },
          "metadata": {},
          "execution_count": 38
        }
      ]
    },
    {
      "cell_type": "code",
      "source": [
        "del df[\"Unnamed: 2\"]\n",
        "del df[\"Unnamed: 3\"]\n",
        "del df[\"Unnamed: 4\"]"
      ],
      "metadata": {
        "execution": {
          "iopub.status.busy": "2024-06-12T12:09:06.466218Z",
          "iopub.execute_input": "2024-06-12T12:09:06.466684Z",
          "iopub.status.idle": "2024-06-12T12:09:06.480135Z",
          "shell.execute_reply.started": "2024-06-12T12:09:06.466632Z",
          "shell.execute_reply": "2024-06-12T12:09:06.478806Z"
        },
        "trusted": true,
        "id": "HdfH3ay7rBpX"
      },
      "execution_count": 39,
      "outputs": []
    },
    {
      "cell_type": "code",
      "source": [
        "df.head()"
      ],
      "metadata": {
        "execution": {
          "iopub.status.busy": "2024-06-12T12:09:06.483561Z",
          "iopub.execute_input": "2024-06-12T12:09:06.484051Z",
          "iopub.status.idle": "2024-06-12T12:09:06.499703Z",
          "shell.execute_reply.started": "2024-06-12T12:09:06.484007Z",
          "shell.execute_reply": "2024-06-12T12:09:06.498398Z"
        },
        "trusted": true,
        "id": "2CdUOIjhrBpb",
        "colab": {
          "base_uri": "https://localhost:8080/",
          "height": 206
        },
        "outputId": "e2a53ccb-982d-4410-9169-d0a924bb9103"
      },
      "execution_count": 40,
      "outputs": [
        {
          "output_type": "execute_result",
          "data": {
            "text/plain": [
              "     v1                                                 v2\n",
              "0   ham  Go until jurong point, crazy.. Available only ...\n",
              "1   ham                      Ok lar... Joking wif u oni...\n",
              "2  spam  Free entry in 2 a wkly comp to win FA Cup fina...\n",
              "3   ham  U dun say so early hor... U c already then say...\n",
              "4   ham  Nah I don't think he goes to usf, he lives aro..."
            ],
            "text/html": [
              "\n",
              "  <div id=\"df-3ecaa3e3-741a-4b08-b607-23c97e2ec371\" class=\"colab-df-container\">\n",
              "    <div>\n",
              "<style scoped>\n",
              "    .dataframe tbody tr th:only-of-type {\n",
              "        vertical-align: middle;\n",
              "    }\n",
              "\n",
              "    .dataframe tbody tr th {\n",
              "        vertical-align: top;\n",
              "    }\n",
              "\n",
              "    .dataframe thead th {\n",
              "        text-align: right;\n",
              "    }\n",
              "</style>\n",
              "<table border=\"1\" class=\"dataframe\">\n",
              "  <thead>\n",
              "    <tr style=\"text-align: right;\">\n",
              "      <th></th>\n",
              "      <th>v1</th>\n",
              "      <th>v2</th>\n",
              "    </tr>\n",
              "  </thead>\n",
              "  <tbody>\n",
              "    <tr>\n",
              "      <th>0</th>\n",
              "      <td>ham</td>\n",
              "      <td>Go until jurong point, crazy.. Available only ...</td>\n",
              "    </tr>\n",
              "    <tr>\n",
              "      <th>1</th>\n",
              "      <td>ham</td>\n",
              "      <td>Ok lar... Joking wif u oni...</td>\n",
              "    </tr>\n",
              "    <tr>\n",
              "      <th>2</th>\n",
              "      <td>spam</td>\n",
              "      <td>Free entry in 2 a wkly comp to win FA Cup fina...</td>\n",
              "    </tr>\n",
              "    <tr>\n",
              "      <th>3</th>\n",
              "      <td>ham</td>\n",
              "      <td>U dun say so early hor... U c already then say...</td>\n",
              "    </tr>\n",
              "    <tr>\n",
              "      <th>4</th>\n",
              "      <td>ham</td>\n",
              "      <td>Nah I don't think he goes to usf, he lives aro...</td>\n",
              "    </tr>\n",
              "  </tbody>\n",
              "</table>\n",
              "</div>\n",
              "    <div class=\"colab-df-buttons\">\n",
              "\n",
              "  <div class=\"colab-df-container\">\n",
              "    <button class=\"colab-df-convert\" onclick=\"convertToInteractive('df-3ecaa3e3-741a-4b08-b607-23c97e2ec371')\"\n",
              "            title=\"Convert this dataframe to an interactive table.\"\n",
              "            style=\"display:none;\">\n",
              "\n",
              "  <svg xmlns=\"http://www.w3.org/2000/svg\" height=\"24px\" viewBox=\"0 -960 960 960\">\n",
              "    <path d=\"M120-120v-720h720v720H120Zm60-500h600v-160H180v160Zm220 220h160v-160H400v160Zm0 220h160v-160H400v160ZM180-400h160v-160H180v160Zm440 0h160v-160H620v160ZM180-180h160v-160H180v160Zm440 0h160v-160H620v160Z\"/>\n",
              "  </svg>\n",
              "    </button>\n",
              "\n",
              "  <style>\n",
              "    .colab-df-container {\n",
              "      display:flex;\n",
              "      gap: 12px;\n",
              "    }\n",
              "\n",
              "    .colab-df-convert {\n",
              "      background-color: #E8F0FE;\n",
              "      border: none;\n",
              "      border-radius: 50%;\n",
              "      cursor: pointer;\n",
              "      display: none;\n",
              "      fill: #1967D2;\n",
              "      height: 32px;\n",
              "      padding: 0 0 0 0;\n",
              "      width: 32px;\n",
              "    }\n",
              "\n",
              "    .colab-df-convert:hover {\n",
              "      background-color: #E2EBFA;\n",
              "      box-shadow: 0px 1px 2px rgba(60, 64, 67, 0.3), 0px 1px 3px 1px rgba(60, 64, 67, 0.15);\n",
              "      fill: #174EA6;\n",
              "    }\n",
              "\n",
              "    .colab-df-buttons div {\n",
              "      margin-bottom: 4px;\n",
              "    }\n",
              "\n",
              "    [theme=dark] .colab-df-convert {\n",
              "      background-color: #3B4455;\n",
              "      fill: #D2E3FC;\n",
              "    }\n",
              "\n",
              "    [theme=dark] .colab-df-convert:hover {\n",
              "      background-color: #434B5C;\n",
              "      box-shadow: 0px 1px 3px 1px rgba(0, 0, 0, 0.15);\n",
              "      filter: drop-shadow(0px 1px 2px rgba(0, 0, 0, 0.3));\n",
              "      fill: #FFFFFF;\n",
              "    }\n",
              "  </style>\n",
              "\n",
              "    <script>\n",
              "      const buttonEl =\n",
              "        document.querySelector('#df-3ecaa3e3-741a-4b08-b607-23c97e2ec371 button.colab-df-convert');\n",
              "      buttonEl.style.display =\n",
              "        google.colab.kernel.accessAllowed ? 'block' : 'none';\n",
              "\n",
              "      async function convertToInteractive(key) {\n",
              "        const element = document.querySelector('#df-3ecaa3e3-741a-4b08-b607-23c97e2ec371');\n",
              "        const dataTable =\n",
              "          await google.colab.kernel.invokeFunction('convertToInteractive',\n",
              "                                                    [key], {});\n",
              "        if (!dataTable) return;\n",
              "\n",
              "        const docLinkHtml = 'Like what you see? Visit the ' +\n",
              "          '<a target=\"_blank\" href=https://colab.research.google.com/notebooks/data_table.ipynb>data table notebook</a>'\n",
              "          + ' to learn more about interactive tables.';\n",
              "        element.innerHTML = '';\n",
              "        dataTable['output_type'] = 'display_data';\n",
              "        await google.colab.output.renderOutput(dataTable, element);\n",
              "        const docLink = document.createElement('div');\n",
              "        docLink.innerHTML = docLinkHtml;\n",
              "        element.appendChild(docLink);\n",
              "      }\n",
              "    </script>\n",
              "  </div>\n",
              "\n",
              "\n",
              "<div id=\"df-bf8d716b-f5e5-405a-8081-5619a6af0f57\">\n",
              "  <button class=\"colab-df-quickchart\" onclick=\"quickchart('df-bf8d716b-f5e5-405a-8081-5619a6af0f57')\"\n",
              "            title=\"Suggest charts\"\n",
              "            style=\"display:none;\">\n",
              "\n",
              "<svg xmlns=\"http://www.w3.org/2000/svg\" height=\"24px\"viewBox=\"0 0 24 24\"\n",
              "     width=\"24px\">\n",
              "    <g>\n",
              "        <path d=\"M19 3H5c-1.1 0-2 .9-2 2v14c0 1.1.9 2 2 2h14c1.1 0 2-.9 2-2V5c0-1.1-.9-2-2-2zM9 17H7v-7h2v7zm4 0h-2V7h2v10zm4 0h-2v-4h2v4z\"/>\n",
              "    </g>\n",
              "</svg>\n",
              "  </button>\n",
              "\n",
              "<style>\n",
              "  .colab-df-quickchart {\n",
              "      --bg-color: #E8F0FE;\n",
              "      --fill-color: #1967D2;\n",
              "      --hover-bg-color: #E2EBFA;\n",
              "      --hover-fill-color: #174EA6;\n",
              "      --disabled-fill-color: #AAA;\n",
              "      --disabled-bg-color: #DDD;\n",
              "  }\n",
              "\n",
              "  [theme=dark] .colab-df-quickchart {\n",
              "      --bg-color: #3B4455;\n",
              "      --fill-color: #D2E3FC;\n",
              "      --hover-bg-color: #434B5C;\n",
              "      --hover-fill-color: #FFFFFF;\n",
              "      --disabled-bg-color: #3B4455;\n",
              "      --disabled-fill-color: #666;\n",
              "  }\n",
              "\n",
              "  .colab-df-quickchart {\n",
              "    background-color: var(--bg-color);\n",
              "    border: none;\n",
              "    border-radius: 50%;\n",
              "    cursor: pointer;\n",
              "    display: none;\n",
              "    fill: var(--fill-color);\n",
              "    height: 32px;\n",
              "    padding: 0;\n",
              "    width: 32px;\n",
              "  }\n",
              "\n",
              "  .colab-df-quickchart:hover {\n",
              "    background-color: var(--hover-bg-color);\n",
              "    box-shadow: 0 1px 2px rgba(60, 64, 67, 0.3), 0 1px 3px 1px rgba(60, 64, 67, 0.15);\n",
              "    fill: var(--button-hover-fill-color);\n",
              "  }\n",
              "\n",
              "  .colab-df-quickchart-complete:disabled,\n",
              "  .colab-df-quickchart-complete:disabled:hover {\n",
              "    background-color: var(--disabled-bg-color);\n",
              "    fill: var(--disabled-fill-color);\n",
              "    box-shadow: none;\n",
              "  }\n",
              "\n",
              "  .colab-df-spinner {\n",
              "    border: 2px solid var(--fill-color);\n",
              "    border-color: transparent;\n",
              "    border-bottom-color: var(--fill-color);\n",
              "    animation:\n",
              "      spin 1s steps(1) infinite;\n",
              "  }\n",
              "\n",
              "  @keyframes spin {\n",
              "    0% {\n",
              "      border-color: transparent;\n",
              "      border-bottom-color: var(--fill-color);\n",
              "      border-left-color: var(--fill-color);\n",
              "    }\n",
              "    20% {\n",
              "      border-color: transparent;\n",
              "      border-left-color: var(--fill-color);\n",
              "      border-top-color: var(--fill-color);\n",
              "    }\n",
              "    30% {\n",
              "      border-color: transparent;\n",
              "      border-left-color: var(--fill-color);\n",
              "      border-top-color: var(--fill-color);\n",
              "      border-right-color: var(--fill-color);\n",
              "    }\n",
              "    40% {\n",
              "      border-color: transparent;\n",
              "      border-right-color: var(--fill-color);\n",
              "      border-top-color: var(--fill-color);\n",
              "    }\n",
              "    60% {\n",
              "      border-color: transparent;\n",
              "      border-right-color: var(--fill-color);\n",
              "    }\n",
              "    80% {\n",
              "      border-color: transparent;\n",
              "      border-right-color: var(--fill-color);\n",
              "      border-bottom-color: var(--fill-color);\n",
              "    }\n",
              "    90% {\n",
              "      border-color: transparent;\n",
              "      border-bottom-color: var(--fill-color);\n",
              "    }\n",
              "  }\n",
              "</style>\n",
              "\n",
              "  <script>\n",
              "    async function quickchart(key) {\n",
              "      const quickchartButtonEl =\n",
              "        document.querySelector('#' + key + ' button');\n",
              "      quickchartButtonEl.disabled = true;  // To prevent multiple clicks.\n",
              "      quickchartButtonEl.classList.add('colab-df-spinner');\n",
              "      try {\n",
              "        const charts = await google.colab.kernel.invokeFunction(\n",
              "            'suggestCharts', [key], {});\n",
              "      } catch (error) {\n",
              "        console.error('Error during call to suggestCharts:', error);\n",
              "      }\n",
              "      quickchartButtonEl.classList.remove('colab-df-spinner');\n",
              "      quickchartButtonEl.classList.add('colab-df-quickchart-complete');\n",
              "    }\n",
              "    (() => {\n",
              "      let quickchartButtonEl =\n",
              "        document.querySelector('#df-bf8d716b-f5e5-405a-8081-5619a6af0f57 button');\n",
              "      quickchartButtonEl.style.display =\n",
              "        google.colab.kernel.accessAllowed ? 'block' : 'none';\n",
              "    })();\n",
              "  </script>\n",
              "</div>\n",
              "\n",
              "    </div>\n",
              "  </div>\n"
            ],
            "application/vnd.google.colaboratory.intrinsic+json": {
              "type": "dataframe",
              "variable_name": "df",
              "summary": "{\n  \"name\": \"df\",\n  \"rows\": 5572,\n  \"fields\": [\n    {\n      \"column\": \"v1\",\n      \"properties\": {\n        \"dtype\": \"category\",\n        \"num_unique_values\": 2,\n        \"samples\": [\n          \"spam\",\n          \"ham\"\n        ],\n        \"semantic_type\": \"\",\n        \"description\": \"\"\n      }\n    },\n    {\n      \"column\": \"v2\",\n      \"properties\": {\n        \"dtype\": \"string\",\n        \"num_unique_values\": 5169,\n        \"samples\": [\n          \"Did u download the fring app?\",\n          \"Pass dis to all ur contacts n see wat u get! Red;i'm in luv wid u. Blue;u put a smile on my face. Purple;u r realy hot. Pink;u r so swt. Orange;i thnk i lyk u. Green;i realy wana go out wid u. Yelow;i wnt u bck. Black;i'm jealous of u. Brown;i miss you Nw plz giv me one color\"\n        ],\n        \"semantic_type\": \"\",\n        \"description\": \"\"\n      }\n    }\n  ]\n}"
            }
          },
          "metadata": {},
          "execution_count": 40
        }
      ]
    },
    {
      "cell_type": "markdown",
      "source": [
        "# Renaming the Columns"
      ],
      "metadata": {
        "id": "HmAB3oeDrBpc"
      }
    },
    {
      "cell_type": "code",
      "source": [
        "df.rename({\"v1\":\"result\",\"v2\":\"messages\"},inplace=True,axis=1)\n",
        "df['label'] = df.result.map({\"ham\":0,\"spam\":1})"
      ],
      "metadata": {
        "execution": {
          "iopub.status.busy": "2024-06-12T12:09:06.501145Z",
          "iopub.execute_input": "2024-06-12T12:09:06.501557Z",
          "iopub.status.idle": "2024-06-12T12:09:06.511607Z",
          "shell.execute_reply.started": "2024-06-12T12:09:06.501524Z",
          "shell.execute_reply": "2024-06-12T12:09:06.510614Z"
        },
        "trusted": true,
        "id": "ojQiLCOYrBpd"
      },
      "execution_count": 183,
      "outputs": []
    },
    {
      "cell_type": "code",
      "source": [
        "df.head()"
      ],
      "metadata": {
        "execution": {
          "iopub.status.busy": "2024-06-12T12:09:06.512907Z",
          "iopub.execute_input": "2024-06-12T12:09:06.513247Z",
          "iopub.status.idle": "2024-06-12T12:09:06.531667Z",
          "shell.execute_reply.started": "2024-06-12T12:09:06.513218Z",
          "shell.execute_reply": "2024-06-12T12:09:06.530455Z"
        },
        "trusted": true,
        "id": "bGEkzcEXrBpe",
        "colab": {
          "base_uri": "https://localhost:8080/",
          "height": 206
        },
        "outputId": "93a57849-1e24-4315-dc90-5bde00a5bc02"
      },
      "execution_count": 184,
      "outputs": [
        {
          "output_type": "execute_result",
          "data": {
            "text/plain": [
              "  result                                           messages  label\n",
              "0    ham  Go until jurong point, crazy.. Available only ...      0\n",
              "1    ham                      Ok lar... Joking wif u oni...      0\n",
              "2   spam  Free entry in 2 a wkly comp to win FA Cup fina...      1\n",
              "3    ham  U dun say so early hor... U c already then say...      0\n",
              "4    ham  Nah I don't think he goes to usf, he lives aro...      0"
            ],
            "text/html": [
              "\n",
              "  <div id=\"df-5067a70e-ddcd-4ae1-b203-1fb1f3a1b1a0\" class=\"colab-df-container\">\n",
              "    <div>\n",
              "<style scoped>\n",
              "    .dataframe tbody tr th:only-of-type {\n",
              "        vertical-align: middle;\n",
              "    }\n",
              "\n",
              "    .dataframe tbody tr th {\n",
              "        vertical-align: top;\n",
              "    }\n",
              "\n",
              "    .dataframe thead th {\n",
              "        text-align: right;\n",
              "    }\n",
              "</style>\n",
              "<table border=\"1\" class=\"dataframe\">\n",
              "  <thead>\n",
              "    <tr style=\"text-align: right;\">\n",
              "      <th></th>\n",
              "      <th>result</th>\n",
              "      <th>messages</th>\n",
              "      <th>label</th>\n",
              "    </tr>\n",
              "  </thead>\n",
              "  <tbody>\n",
              "    <tr>\n",
              "      <th>0</th>\n",
              "      <td>ham</td>\n",
              "      <td>Go until jurong point, crazy.. Available only ...</td>\n",
              "      <td>0</td>\n",
              "    </tr>\n",
              "    <tr>\n",
              "      <th>1</th>\n",
              "      <td>ham</td>\n",
              "      <td>Ok lar... Joking wif u oni...</td>\n",
              "      <td>0</td>\n",
              "    </tr>\n",
              "    <tr>\n",
              "      <th>2</th>\n",
              "      <td>spam</td>\n",
              "      <td>Free entry in 2 a wkly comp to win FA Cup fina...</td>\n",
              "      <td>1</td>\n",
              "    </tr>\n",
              "    <tr>\n",
              "      <th>3</th>\n",
              "      <td>ham</td>\n",
              "      <td>U dun say so early hor... U c already then say...</td>\n",
              "      <td>0</td>\n",
              "    </tr>\n",
              "    <tr>\n",
              "      <th>4</th>\n",
              "      <td>ham</td>\n",
              "      <td>Nah I don't think he goes to usf, he lives aro...</td>\n",
              "      <td>0</td>\n",
              "    </tr>\n",
              "  </tbody>\n",
              "</table>\n",
              "</div>\n",
              "    <div class=\"colab-df-buttons\">\n",
              "\n",
              "  <div class=\"colab-df-container\">\n",
              "    <button class=\"colab-df-convert\" onclick=\"convertToInteractive('df-5067a70e-ddcd-4ae1-b203-1fb1f3a1b1a0')\"\n",
              "            title=\"Convert this dataframe to an interactive table.\"\n",
              "            style=\"display:none;\">\n",
              "\n",
              "  <svg xmlns=\"http://www.w3.org/2000/svg\" height=\"24px\" viewBox=\"0 -960 960 960\">\n",
              "    <path d=\"M120-120v-720h720v720H120Zm60-500h600v-160H180v160Zm220 220h160v-160H400v160Zm0 220h160v-160H400v160ZM180-400h160v-160H180v160Zm440 0h160v-160H620v160ZM180-180h160v-160H180v160Zm440 0h160v-160H620v160Z\"/>\n",
              "  </svg>\n",
              "    </button>\n",
              "\n",
              "  <style>\n",
              "    .colab-df-container {\n",
              "      display:flex;\n",
              "      gap: 12px;\n",
              "    }\n",
              "\n",
              "    .colab-df-convert {\n",
              "      background-color: #E8F0FE;\n",
              "      border: none;\n",
              "      border-radius: 50%;\n",
              "      cursor: pointer;\n",
              "      display: none;\n",
              "      fill: #1967D2;\n",
              "      height: 32px;\n",
              "      padding: 0 0 0 0;\n",
              "      width: 32px;\n",
              "    }\n",
              "\n",
              "    .colab-df-convert:hover {\n",
              "      background-color: #E2EBFA;\n",
              "      box-shadow: 0px 1px 2px rgba(60, 64, 67, 0.3), 0px 1px 3px 1px rgba(60, 64, 67, 0.15);\n",
              "      fill: #174EA6;\n",
              "    }\n",
              "\n",
              "    .colab-df-buttons div {\n",
              "      margin-bottom: 4px;\n",
              "    }\n",
              "\n",
              "    [theme=dark] .colab-df-convert {\n",
              "      background-color: #3B4455;\n",
              "      fill: #D2E3FC;\n",
              "    }\n",
              "\n",
              "    [theme=dark] .colab-df-convert:hover {\n",
              "      background-color: #434B5C;\n",
              "      box-shadow: 0px 1px 3px 1px rgba(0, 0, 0, 0.15);\n",
              "      filter: drop-shadow(0px 1px 2px rgba(0, 0, 0, 0.3));\n",
              "      fill: #FFFFFF;\n",
              "    }\n",
              "  </style>\n",
              "\n",
              "    <script>\n",
              "      const buttonEl =\n",
              "        document.querySelector('#df-5067a70e-ddcd-4ae1-b203-1fb1f3a1b1a0 button.colab-df-convert');\n",
              "      buttonEl.style.display =\n",
              "        google.colab.kernel.accessAllowed ? 'block' : 'none';\n",
              "\n",
              "      async function convertToInteractive(key) {\n",
              "        const element = document.querySelector('#df-5067a70e-ddcd-4ae1-b203-1fb1f3a1b1a0');\n",
              "        const dataTable =\n",
              "          await google.colab.kernel.invokeFunction('convertToInteractive',\n",
              "                                                    [key], {});\n",
              "        if (!dataTable) return;\n",
              "\n",
              "        const docLinkHtml = 'Like what you see? Visit the ' +\n",
              "          '<a target=\"_blank\" href=https://colab.research.google.com/notebooks/data_table.ipynb>data table notebook</a>'\n",
              "          + ' to learn more about interactive tables.';\n",
              "        element.innerHTML = '';\n",
              "        dataTable['output_type'] = 'display_data';\n",
              "        await google.colab.output.renderOutput(dataTable, element);\n",
              "        const docLink = document.createElement('div');\n",
              "        docLink.innerHTML = docLinkHtml;\n",
              "        element.appendChild(docLink);\n",
              "      }\n",
              "    </script>\n",
              "  </div>\n",
              "\n",
              "\n",
              "<div id=\"df-8eae7716-0dba-4831-ac96-9c0eda86c8f8\">\n",
              "  <button class=\"colab-df-quickchart\" onclick=\"quickchart('df-8eae7716-0dba-4831-ac96-9c0eda86c8f8')\"\n",
              "            title=\"Suggest charts\"\n",
              "            style=\"display:none;\">\n",
              "\n",
              "<svg xmlns=\"http://www.w3.org/2000/svg\" height=\"24px\"viewBox=\"0 0 24 24\"\n",
              "     width=\"24px\">\n",
              "    <g>\n",
              "        <path d=\"M19 3H5c-1.1 0-2 .9-2 2v14c0 1.1.9 2 2 2h14c1.1 0 2-.9 2-2V5c0-1.1-.9-2-2-2zM9 17H7v-7h2v7zm4 0h-2V7h2v10zm4 0h-2v-4h2v4z\"/>\n",
              "    </g>\n",
              "</svg>\n",
              "  </button>\n",
              "\n",
              "<style>\n",
              "  .colab-df-quickchart {\n",
              "      --bg-color: #E8F0FE;\n",
              "      --fill-color: #1967D2;\n",
              "      --hover-bg-color: #E2EBFA;\n",
              "      --hover-fill-color: #174EA6;\n",
              "      --disabled-fill-color: #AAA;\n",
              "      --disabled-bg-color: #DDD;\n",
              "  }\n",
              "\n",
              "  [theme=dark] .colab-df-quickchart {\n",
              "      --bg-color: #3B4455;\n",
              "      --fill-color: #D2E3FC;\n",
              "      --hover-bg-color: #434B5C;\n",
              "      --hover-fill-color: #FFFFFF;\n",
              "      --disabled-bg-color: #3B4455;\n",
              "      --disabled-fill-color: #666;\n",
              "  }\n",
              "\n",
              "  .colab-df-quickchart {\n",
              "    background-color: var(--bg-color);\n",
              "    border: none;\n",
              "    border-radius: 50%;\n",
              "    cursor: pointer;\n",
              "    display: none;\n",
              "    fill: var(--fill-color);\n",
              "    height: 32px;\n",
              "    padding: 0;\n",
              "    width: 32px;\n",
              "  }\n",
              "\n",
              "  .colab-df-quickchart:hover {\n",
              "    background-color: var(--hover-bg-color);\n",
              "    box-shadow: 0 1px 2px rgba(60, 64, 67, 0.3), 0 1px 3px 1px rgba(60, 64, 67, 0.15);\n",
              "    fill: var(--button-hover-fill-color);\n",
              "  }\n",
              "\n",
              "  .colab-df-quickchart-complete:disabled,\n",
              "  .colab-df-quickchart-complete:disabled:hover {\n",
              "    background-color: var(--disabled-bg-color);\n",
              "    fill: var(--disabled-fill-color);\n",
              "    box-shadow: none;\n",
              "  }\n",
              "\n",
              "  .colab-df-spinner {\n",
              "    border: 2px solid var(--fill-color);\n",
              "    border-color: transparent;\n",
              "    border-bottom-color: var(--fill-color);\n",
              "    animation:\n",
              "      spin 1s steps(1) infinite;\n",
              "  }\n",
              "\n",
              "  @keyframes spin {\n",
              "    0% {\n",
              "      border-color: transparent;\n",
              "      border-bottom-color: var(--fill-color);\n",
              "      border-left-color: var(--fill-color);\n",
              "    }\n",
              "    20% {\n",
              "      border-color: transparent;\n",
              "      border-left-color: var(--fill-color);\n",
              "      border-top-color: var(--fill-color);\n",
              "    }\n",
              "    30% {\n",
              "      border-color: transparent;\n",
              "      border-left-color: var(--fill-color);\n",
              "      border-top-color: var(--fill-color);\n",
              "      border-right-color: var(--fill-color);\n",
              "    }\n",
              "    40% {\n",
              "      border-color: transparent;\n",
              "      border-right-color: var(--fill-color);\n",
              "      border-top-color: var(--fill-color);\n",
              "    }\n",
              "    60% {\n",
              "      border-color: transparent;\n",
              "      border-right-color: var(--fill-color);\n",
              "    }\n",
              "    80% {\n",
              "      border-color: transparent;\n",
              "      border-right-color: var(--fill-color);\n",
              "      border-bottom-color: var(--fill-color);\n",
              "    }\n",
              "    90% {\n",
              "      border-color: transparent;\n",
              "      border-bottom-color: var(--fill-color);\n",
              "    }\n",
              "  }\n",
              "</style>\n",
              "\n",
              "  <script>\n",
              "    async function quickchart(key) {\n",
              "      const quickchartButtonEl =\n",
              "        document.querySelector('#' + key + ' button');\n",
              "      quickchartButtonEl.disabled = true;  // To prevent multiple clicks.\n",
              "      quickchartButtonEl.classList.add('colab-df-spinner');\n",
              "      try {\n",
              "        const charts = await google.colab.kernel.invokeFunction(\n",
              "            'suggestCharts', [key], {});\n",
              "      } catch (error) {\n",
              "        console.error('Error during call to suggestCharts:', error);\n",
              "      }\n",
              "      quickchartButtonEl.classList.remove('colab-df-spinner');\n",
              "      quickchartButtonEl.classList.add('colab-df-quickchart-complete');\n",
              "    }\n",
              "    (() => {\n",
              "      let quickchartButtonEl =\n",
              "        document.querySelector('#df-8eae7716-0dba-4831-ac96-9c0eda86c8f8 button');\n",
              "      quickchartButtonEl.style.display =\n",
              "        google.colab.kernel.accessAllowed ? 'block' : 'none';\n",
              "    })();\n",
              "  </script>\n",
              "</div>\n",
              "\n",
              "    </div>\n",
              "  </div>\n"
            ],
            "application/vnd.google.colaboratory.intrinsic+json": {
              "type": "dataframe",
              "variable_name": "df",
              "summary": "{\n  \"name\": \"df\",\n  \"rows\": 5572,\n  \"fields\": [\n    {\n      \"column\": \"result\",\n      \"properties\": {\n        \"dtype\": \"category\",\n        \"num_unique_values\": 2,\n        \"samples\": [\n          \"spam\",\n          \"ham\"\n        ],\n        \"semantic_type\": \"\",\n        \"description\": \"\"\n      }\n    },\n    {\n      \"column\": \"messages\",\n      \"properties\": {\n        \"dtype\": \"string\",\n        \"num_unique_values\": 5169,\n        \"samples\": [\n          \"Did u download the fring app?\",\n          \"Pass dis to all ur contacts n see wat u get! Red;i'm in luv wid u. Blue;u put a smile on my face. Purple;u r realy hot. Pink;u r so swt. Orange;i thnk i lyk u. Green;i realy wana go out wid u. Yelow;i wnt u bck. Black;i'm jealous of u. Brown;i miss you Nw plz giv me one color\"\n        ],\n        \"semantic_type\": \"\",\n        \"description\": \"\"\n      }\n    },\n    {\n      \"column\": \"label\",\n      \"properties\": {\n        \"dtype\": \"number\",\n        \"std\": 0,\n        \"min\": 0,\n        \"max\": 1,\n        \"num_unique_values\": 2,\n        \"samples\": [\n          1,\n          0\n        ],\n        \"semantic_type\": \"\",\n        \"description\": \"\"\n      }\n    }\n  ]\n}"
            }
          },
          "metadata": {},
          "execution_count": 184
        }
      ]
    },
    {
      "cell_type": "markdown",
      "source": [
        "# Analysing the Data"
      ],
      "metadata": {
        "id": "g1O5ke1grBpi"
      }
    },
    {
      "cell_type": "code",
      "source": [
        "df.isna().sum()"
      ],
      "metadata": {
        "execution": {
          "iopub.status.busy": "2024-06-12T12:09:06.5332Z",
          "iopub.execute_input": "2024-06-12T12:09:06.533642Z",
          "iopub.status.idle": "2024-06-12T12:09:06.551207Z",
          "shell.execute_reply.started": "2024-06-12T12:09:06.533598Z",
          "shell.execute_reply": "2024-06-12T12:09:06.54985Z"
        },
        "trusted": true,
        "id": "Oweo7quMrBpk",
        "colab": {
          "base_uri": "https://localhost:8080/"
        },
        "outputId": "d65229e4-a830-43c5-ae59-1f75af0f89a6"
      },
      "execution_count": 43,
      "outputs": [
        {
          "output_type": "execute_result",
          "data": {
            "text/plain": [
              "result      0\n",
              "messages    0\n",
              "dtype: int64"
            ]
          },
          "metadata": {},
          "execution_count": 43
        }
      ]
    },
    {
      "cell_type": "markdown",
      "source": [
        "**No null values are present in our dataset**"
      ],
      "metadata": {
        "id": "vBhL4PfhrBpk"
      }
    },
    {
      "cell_type": "code",
      "source": [
        "df[\"result\"].value_counts()"
      ],
      "metadata": {
        "execution": {
          "iopub.status.busy": "2024-06-12T12:09:06.552931Z",
          "iopub.execute_input": "2024-06-12T12:09:06.553424Z",
          "iopub.status.idle": "2024-06-12T12:09:06.566254Z",
          "shell.execute_reply.started": "2024-06-12T12:09:06.553373Z",
          "shell.execute_reply": "2024-06-12T12:09:06.564992Z"
        },
        "trusted": true,
        "id": "bh6hDAelrBpl",
        "colab": {
          "base_uri": "https://localhost:8080/"
        },
        "outputId": "895ac525-7695-419b-c7fc-576a45ef9ad4"
      },
      "execution_count": 44,
      "outputs": [
        {
          "output_type": "execute_result",
          "data": {
            "text/plain": [
              "result\n",
              "ham     4825\n",
              "spam     747\n",
              "Name: count, dtype: int64"
            ]
          },
          "metadata": {},
          "execution_count": 44
        }
      ]
    },
    {
      "cell_type": "markdown",
      "source": [
        "**The number of instances of ham and spam in our dataset**"
      ],
      "metadata": {
        "id": "v2jIUNEXrBpl"
      }
    },
    {
      "cell_type": "code",
      "source": [
        "plt.title(\"Instances vs Classes\")\n",
        "plt.xlabel(\"No. of Instances\")\n",
        "plt.ylabel(\"Classes\")\n",
        "sbn.barplot(x=[\"ham\",\"spam\"],y=[df[\"result\"].value_counts()[\"ham\"],df[\"result\"].value_counts()[\"spam\"]])"
      ],
      "metadata": {
        "execution": {
          "iopub.status.busy": "2024-06-12T12:09:06.567769Z",
          "iopub.execute_input": "2024-06-12T12:09:06.568167Z",
          "iopub.status.idle": "2024-06-12T12:09:06.806486Z",
          "shell.execute_reply.started": "2024-06-12T12:09:06.568135Z",
          "shell.execute_reply": "2024-06-12T12:09:06.80535Z"
        },
        "trusted": true,
        "id": "UiqRobzKrBpl",
        "colab": {
          "base_uri": "https://localhost:8080/",
          "height": 490
        },
        "outputId": "4f8fd612-fb72-474f-c90d-75789ed20584"
      },
      "execution_count": 45,
      "outputs": [
        {
          "output_type": "execute_result",
          "data": {
            "text/plain": [
              "<Axes: title={'center': 'Instances vs Classes'}, xlabel='No. of Instances', ylabel='Classes'>"
            ]
          },
          "metadata": {},
          "execution_count": 45
        },
        {
          "output_type": "display_data",
          "data": {
            "text/plain": [
              "<Figure size 640x480 with 1 Axes>"
            ],
            "image/png": "[encoded data removed]"
          },
          "metadata": {}
        }
      ]
    },
    {
      "cell_type": "code",
      "source": [
        "plt.title(\"Pie Chart\")\n",
        "plt.pie(x=[df[\"result\"].value_counts()[\"ham\"],df[\"result\"].value_counts()[\"spam\"]],labels=[\"ham\",\"spam\"],autopct=\"%1.1f%%\")"
      ],
      "metadata": {
        "execution": {
          "iopub.status.busy": "2024-06-12T12:09:07.171868Z",
          "iopub.execute_input": "2024-06-12T12:09:07.172254Z",
          "iopub.status.idle": "2024-06-12T12:09:07.31298Z",
          "shell.execute_reply.started": "2024-06-12T12:09:07.172224Z",
          "shell.execute_reply": "2024-06-12T12:09:07.311669Z"
        },
        "trusted": true,
        "id": "DIYod9a2rBpm",
        "colab": {
          "base_uri": "https://localhost:8080/",
          "height": 538
        },
        "outputId": "b7c8e089-ed5a-426c-dc05-3d849a9c2ca1"
      },
      "execution_count": 46,
      "outputs": [
        {
          "output_type": "execute_result",
          "data": {
            "text/plain": [
              "([<matplotlib.patches.Wedge at 0x7f1c3f071f00>,\n",
              "  <matplotlib.patches.Wedge at 0x7f1c3f1183a0>],\n",
              " [Text(-1.0038714981945518, 0.4497132587689916, 'ham'),\n",
              "  Text(1.0038714771419537, -0.44971330576360763, 'spam')],\n",
              " [Text(-0.5475662717424827, 0.24529814114672266, '86.6%'),\n",
              "  Text(0.5475662602592474, -0.2452981667801496, '13.4%')])"
            ]
          },
          "metadata": {},
          "execution_count": 46
        },
        {
          "output_type": "display_data",
          "data": {
            "text/plain": [
              "<Figure size 640x480 with 1 Axes>"
            ],
            "image/png": "[encoded data removed]"
          },
          "metadata": {}
        }
      ]
    },
    {
      "cell_type": "markdown",
      "source": [
        "# Transforming Textual Data (Data Preprocessing)"
      ],
      "metadata": {
        "id": "Hhr1shyNrBpm"
      }
    },
    {
      "cell_type": "code",
      "source": [
        "# lemmatizer = WordNetLemmatizer()\n",
        "stemmer = PorterStemmer() # I have used Stemmer as it was leading to better accuracy.\n",
        "nltk.download('stopwords')\n",
        "nltk.download('wordnet')\n",
        "nltk.download('punkt')"
      ],
      "metadata": {
        "execution": {
          "iopub.status.busy": "2024-06-12T12:09:09.342792Z",
          "iopub.execute_input": "2024-06-12T12:09:09.343209Z",
          "iopub.status.idle": "2024-06-12T12:09:09.348917Z",
          "shell.execute_reply.started": "2024-06-12T12:09:09.343175Z",
          "shell.execute_reply": "2024-06-12T12:09:09.347493Z"
        },
        "trusted": true,
        "id": "uy5DMkLwrBpn",
        "colab": {
          "base_uri": "https://localhost:8080/"
        },
        "outputId": "3644a729-3b91-40a6-db14-3134f52c1f00"
      },
      "execution_count": 47,
      "outputs": [
        {
          "output_type": "stream",
          "name": "stderr",
          "text": [
            "[nltk_data] Downloading package stopwords to /root/nltk_data...\n",
            "[nltk_data]   Package stopwords is already up-to-date!\n",
            "[nltk_data] Downloading package wordnet to /root/nltk_data...\n",
            "[nltk_data]   Package wordnet is already up-to-date!\n",
            "[nltk_data] Downloading package punkt to /root/nltk_data...\n",
            "[nltk_data]   Package punkt is already up-to-date!\n"
          ]
        },
        {
          "output_type": "execute_result",
          "data": {
            "text/plain": [
              "True"
            ]
          },
          "metadata": {},
          "execution_count": 47
        }
      ]
    },
    {
      "cell_type": "code",
      "source": [
        "punctuations = string.punctuation\n",
        "stop = stopwords.words('english')\n",
        "stop.extend(punctuations)\n",
        "print(stop)"
      ],
      "metadata": {
        "execution": {
          "iopub.status.busy": "2024-06-12T12:09:10.199021Z",
          "iopub.execute_input": "2024-06-12T12:09:10.199507Z",
          "iopub.status.idle": "2024-06-12T12:09:10.206871Z",
          "shell.execute_reply.started": "2024-06-12T12:09:10.199469Z",
          "shell.execute_reply": "2024-06-12T12:09:10.20553Z"
        },
        "trusted": true,
        "id": "gvEl11VXrBpn",
        "colab": {
          "base_uri": "https://localhost:8080/"
        },
        "outputId": "2e55a664-e8a7-452b-a29c-674917a6f14d"
      },
      "execution_count": 48,
      "outputs": [
        {
          "output_type": "stream",
          "name": "stdout",
          "text": [
            "['i', 'me', 'my', 'myself', 'we', 'our', 'ours', 'ourselves', 'you', \"you're\", \"you've\", \"you'll\", \"you'd\", 'your', 'yours', 'yourself', 'yourselves', 'he', 'him', 'his', 'himself', 'she', \"she's\", 'her', 'hers', 'herself', 'it', \"it's\", 'its', 'itself', 'they', 'them', 'their', 'theirs', 'themselves', 'what', 'which', 'who', 'whom', 'this', 'that', \"that'll\", 'these', 'those', 'am', 'is', 'are', 'was', 'were', 'be', 'been', 'being', 'have', 'has', 'had', 'having', 'do', 'does', 'did', 'doing', 'a', 'an', 'the', 'and', 'but', 'if', 'or', 'because', 'as', 'until', 'while', 'of', 'at', 'by', 'for', 'with', 'about', 'against', 'between', 'into', 'through', 'during', 'before', 'after', 'above', 'below', 'to', 'from', 'up', 'down', 'in', 'out', 'on', 'off', 'over', 'under', 'again', 'further', 'then', 'once', 'here', 'there', 'when', 'where', 'why', 'how', 'all', 'any', 'both', 'each', 'few', 'more', 'most', 'other', 'some', 'such', 'no', 'nor', 'not', 'only', 'own', 'same', 'so', 'than', 'too', 'very', 's', 't', 'can', 'will', 'just', 'don', \"don't\", 'should', \"should've\", 'now', 'd', 'll', 'm', 'o', 're', 've', 'y', 'ain', 'aren', \"aren't\", 'couldn', \"couldn't\", 'didn', \"didn't\", 'doesn', \"doesn't\", 'hadn', \"hadn't\", 'hasn', \"hasn't\", 'haven', \"haven't\", 'isn', \"isn't\", 'ma', 'mightn', \"mightn't\", 'mustn', \"mustn't\", 'needn', \"needn't\", 'shan', \"shan't\", 'shouldn', \"shouldn't\", 'wasn', \"wasn't\", 'weren', \"weren't\", 'won', \"won't\", 'wouldn', \"wouldn't\", '!', '\"', '#', '$', '%', '&', \"'\", '(', ')', '*', '+', ',', '-', '.', '/', ':', ';', '<', '=', '>', '?', '@', '[', '\\\\', ']', '^', '_', '`', '{', '|', '}', '~']\n"
          ]
        }
      ]
    },
    {
      "cell_type": "code",
      "source": [
        "corpus=[]\n",
        "for i in range(0,len(df)):\n",
        "    # Remove everything but alphanumeric characters.\n",
        "    review = re.sub('[^a-zA-z0-9]',' ',df.iloc[i][\"messages\"])\n",
        "    review = review.lower()\n",
        "    review = review.split()\n",
        "    # review = [lemmatizer.lemmatize(word) for word in review if not word in stop]\n",
        "    review = [stemmer.stem(word) for word in review if not word in stop]\n",
        "    review = ' '.join(review)\n",
        "    corpus.append(review)"
      ],
      "metadata": {
        "execution": {
          "iopub.status.busy": "2024-06-12T12:09:11.536666Z",
          "iopub.execute_input": "2024-06-12T12:09:11.537067Z",
          "iopub.status.idle": "2024-06-12T12:09:14.0365Z",
          "shell.execute_reply.started": "2024-06-12T12:09:11.537038Z",
          "shell.execute_reply": "2024-06-12T12:09:14.035373Z"
        },
        "trusted": true,
        "id": "IKNjS7cRrBpp"
      },
      "execution_count": 49,
      "outputs": []
    },
    {
      "cell_type": "markdown",
      "source": [
        "# Changing Data Format"
      ],
      "metadata": {
        "id": "dMYRnMZQrBpq"
      }
    },
    {
      "cell_type": "code",
      "source": [
        "words=[]\n",
        "j=0\n",
        "y=[]\n",
        "sentences = []\n",
        "for sent in corpus:\n",
        "    sent_token = sent_tokenize(sent)\n",
        "    if(sent!=\"\"):\n",
        "        y.append(df.iloc[j]['result'])\n",
        "    j=j+1\n",
        "    for i in sent_token: # sent_token is a list of one sentence beacuse sent_tokenize returns a list.\n",
        "        sentences.append(i)\n",
        "        data = word_tokenize(i)\n",
        "        words.append(data)"
      ],
      "metadata": {
        "execution": {
          "iopub.status.busy": "2024-06-12T12:09:14.038322Z",
          "iopub.execute_input": "2024-06-12T12:09:14.038726Z",
          "iopub.status.idle": "2024-06-12T12:09:15.785445Z",
          "shell.execute_reply.started": "2024-06-12T12:09:14.03869Z",
          "shell.execute_reply": "2024-06-12T12:09:15.784246Z"
        },
        "trusted": true,
        "id": "qQJDjXznrBpq"
      },
      "execution_count": 147,
      "outputs": []
    },
    {
      "cell_type": "code",
      "source": [
        "len(corpus)"
      ],
      "metadata": {
        "execution": {
          "iopub.status.busy": "2024-06-12T12:09:18.561852Z",
          "iopub.execute_input": "2024-06-12T12:09:18.562979Z",
          "iopub.status.idle": "2024-06-12T12:09:18.570937Z",
          "shell.execute_reply.started": "2024-06-12T12:09:18.562934Z",
          "shell.execute_reply": "2024-06-12T12:09:18.569327Z"
        },
        "trusted": true,
        "id": "KwU_ffh9rBpr",
        "colab": {
          "base_uri": "https://localhost:8080/"
        },
        "outputId": "8801dfea-d108-4018-83d8-60f9014095f6"
      },
      "execution_count": 51,
      "outputs": [
        {
          "output_type": "execute_result",
          "data": {
            "text/plain": [
              "5572"
            ]
          },
          "metadata": {},
          "execution_count": 51
        }
      ]
    },
    {
      "cell_type": "markdown",
      "source": [
        "# word2vec model creation using gensim library"
      ],
      "metadata": {
        "id": "CgF9r568rBps"
      }
    },
    {
      "cell_type": "code",
      "source": [
        "model = Word2Vec(words,window=5,min_count=2,vector_size=20)"
      ],
      "metadata": {
        "execution": {
          "iopub.status.busy": "2024-06-12T12:09:19.487278Z",
          "iopub.execute_input": "2024-06-12T12:09:19.487738Z",
          "iopub.status.idle": "2024-06-12T12:09:20.000093Z",
          "shell.execute_reply.started": "2024-06-12T12:09:19.487704Z",
          "shell.execute_reply": "2024-06-12T12:09:19.998809Z"
        },
        "trusted": true,
        "id": "l51T_hYlrBpt"
      },
      "execution_count": 52,
      "outputs": []
    },
    {
      "cell_type": "code",
      "source": [
        "model.wv.index_to_key[0:10]"
      ],
      "metadata": {
        "execution": {
          "iopub.status.busy": "2024-06-12T12:09:23.806607Z",
          "iopub.execute_input": "2024-06-12T12:09:23.807003Z",
          "iopub.status.idle": "2024-06-12T12:09:23.815973Z",
          "shell.execute_reply.started": "2024-06-12T12:09:23.806972Z",
          "shell.execute_reply": "2024-06-12T12:09:23.814649Z"
        },
        "trusted": true,
        "id": "22UH0fWjrBpt",
        "colab": {
          "base_uri": "https://localhost:8080/"
        },
        "outputId": "a9baf2e7-92cf-48c8-ad1a-b3ac900bba4c"
      },
      "execution_count": 53,
      "outputs": [
        {
          "output_type": "execute_result",
          "data": {
            "text/plain": [
              "['u', 'call', '2', 'go', 'get', 'ur', '4', 'gt', 'lt', 'come']"
            ]
          },
          "metadata": {},
          "execution_count": 53
        }
      ]
    },
    {
      "cell_type": "markdown",
      "source": [
        "# Get mean of word vectors for all the sentences"
      ],
      "metadata": {
        "id": "FZj_Vr2GrBpv"
      }
    },
    {
      "cell_type": "code",
      "source": [
        "def avg_word2vec(doc, model):\n",
        "    word_vectors = [model.wv[word] for word in doc if word in model.wv.index_to_key]\n",
        "\n",
        "    if not word_vectors:  # If the list is empty\n",
        "        return np.zeros(model.vector_size)  # Return a zero vector of the same dimensionality as the word vectors\n",
        "\n",
        "    return np.mean(word_vectors, axis=0)"
      ],
      "metadata": {
        "id": "ko7G01P4Py6k"
      },
      "execution_count": 54,
      "outputs": []
    },
    {
      "cell_type": "code",
      "source": [
        "X = []\n",
        "for i in range(len(words)):\n",
        "    # X.append(model.wv.get_mean_vector(words[i]))\n",
        "    X.append(avg_word2vec(words[i],model))"
      ],
      "metadata": {
        "execution": {
          "iopub.status.busy": "2024-06-12T12:09:39.087018Z",
          "iopub.execute_input": "2024-06-12T12:09:39.087442Z",
          "iopub.status.idle": "2024-06-12T12:09:40.305906Z",
          "shell.execute_reply.started": "2024-06-12T12:09:39.087392Z",
          "shell.execute_reply": "2024-06-12T12:09:40.304462Z"
        },
        "trusted": true,
        "id": "wF1FGVH5rBp4"
      },
      "execution_count": 55,
      "outputs": []
    },
    {
      "cell_type": "code",
      "source": [
        "Y = []\n",
        "for i in y:\n",
        "    if i=='ham':\n",
        "        Y.append(0)\n",
        "    else:\n",
        "        Y.append(1)\n",
        "print(len(X))\n",
        "print(len(Y))"
      ],
      "metadata": {
        "execution": {
          "iopub.status.busy": "2024-06-12T12:09:44.401614Z",
          "iopub.execute_input": "2024-06-12T12:09:44.402016Z",
          "iopub.status.idle": "2024-06-12T12:09:44.41109Z",
          "shell.execute_reply.started": "2024-06-12T12:09:44.401985Z",
          "shell.execute_reply": "2024-06-12T12:09:44.409758Z"
        },
        "trusted": true,
        "id": "Uad3iT3RrBp5",
        "colab": {
          "base_uri": "https://localhost:8080/"
        },
        "outputId": "bddf9153-86b9-4b22-c146-cd4333d39367"
      },
      "execution_count": 56,
      "outputs": [
        {
          "output_type": "stream",
          "name": "stdout",
          "text": [
            "5565\n",
            "5565\n"
          ]
        }
      ]
    },
    {
      "cell_type": "markdown",
      "source": [
        "# Splitting data into Training and Testing"
      ],
      "metadata": {
        "id": "Omf6dapXrBqT"
      }
    },
    {
      "cell_type": "code",
      "source": [
        "x_train, x_test, y_train, y_test = train_test_split(X,Y,test_size=0.25, stratify = Y)"
      ],
      "metadata": {
        "execution": {
          "iopub.status.busy": "2024-06-12T12:09:46.725069Z",
          "iopub.execute_input": "2024-06-12T12:09:46.72553Z",
          "iopub.status.idle": "2024-06-12T12:09:46.736999Z",
          "shell.execute_reply.started": "2024-06-12T12:09:46.725493Z",
          "shell.execute_reply": "2024-06-12T12:09:46.735443Z"
        },
        "trusted": true,
        "id": "wCev2G21rBqU"
      },
      "execution_count": 187,
      "outputs": []
    },
    {
      "cell_type": "code",
      "source": [
        "print(len(x_train))\n",
        "print(len(x_test))"
      ],
      "metadata": {
        "execution": {
          "iopub.status.busy": "2024-06-12T12:09:49.657328Z",
          "iopub.execute_input": "2024-06-12T12:09:49.657805Z",
          "iopub.status.idle": "2024-06-12T12:09:49.66495Z",
          "shell.execute_reply.started": "2024-06-12T12:09:49.657767Z",
          "shell.execute_reply": "2024-06-12T12:09:49.663374Z"
        },
        "trusted": true,
        "id": "mob66tMJrBqU",
        "colab": {
          "base_uri": "https://localhost:8080/"
        },
        "outputId": "e5ac723f-db3d-47c8-9730-5e2688c57cea"
      },
      "execution_count": 191,
      "outputs": [
        {
          "output_type": "stream",
          "name": "stdout",
          "text": [
            "4173\n",
            "1392\n"
          ]
        },
        {
          "output_type": "execute_result",
          "data": {
            "text/plain": [
              "array([-0.19788434, -0.03634395,  0.32340443,  0.83158916, -0.3077333 ,\n",
              "       -0.37414494,  0.03002511,  1.0470318 , -0.29568228,  0.29738012,\n",
              "        0.7875555 , -0.2911953 ,  0.75278336, -0.38280177,  0.68298453,\n",
              "        0.4891276 ,  0.85386586, -0.39305237, -0.88780695, -1.052986  ],\n",
              "      dtype=float32)"
            ]
          },
          "metadata": {},
          "execution_count": 191
        }
      ]
    },
    {
      "cell_type": "markdown",
      "source": [
        "# MODEL BUILDING"
      ],
      "metadata": {
        "id": "yPFlEa8NrBqV"
      }
    },
    {
      "cell_type": "code",
      "source": [
        "models = [\n",
        "    ('Logistic Regression', LogisticRegression(max_iter=1000)),\n",
        "    ('Decision Tree', DecisionTreeClassifier()),\n",
        "    ('Random Forest', RandomForestClassifier()),\n",
        "    ('Support Vector Machine', SVC()),\n",
        "    ('K Nearest Neighbors', KNeighborsClassifier()),\n",
        "    # ('Naive Bayes', GaussianNB()),\n",
        "    ('Multi Layer Perceptron', MLPClassifier()),\n",
        "    ('Extra Trees', ExtraTreesClassifier()),\n",
        "    ('Stochastic Gradient Descent', SGDClassifier()),\n",
        "    ('Cross Gradient Boost', XGBClassifier()),\n",
        "    ('Cross Gradient Boost (Random Forest)', XGBRFClassifier()),\n",
        "    ('LightGBM Classifier', LGBMClassifier())\n",
        "]"
      ],
      "metadata": {
        "execution": {
          "iopub.status.busy": "2024-06-12T12:09:53.577595Z",
          "iopub.execute_input": "2024-06-12T12:09:53.578027Z",
          "iopub.status.idle": "2024-06-12T12:09:53.585637Z",
          "shell.execute_reply.started": "2024-06-12T12:09:53.577993Z",
          "shell.execute_reply": "2024-06-12T12:09:53.584222Z"
        },
        "trusted": true,
        "id": "nX8Y2wSUrBqW"
      },
      "execution_count": 174,
      "outputs": []
    },
    {
      "cell_type": "code",
      "source": [
        "best_model=\"\"\n",
        "best_accuracy=0"
      ],
      "metadata": {
        "execution": {
          "iopub.status.busy": "2024-06-12T12:09:55.082254Z",
          "iopub.execute_input": "2024-06-12T12:09:55.082807Z",
          "iopub.status.idle": "2024-06-12T12:09:55.089219Z",
          "shell.execute_reply.started": "2024-06-12T12:09:55.082771Z",
          "shell.execute_reply": "2024-06-12T12:09:55.087488Z"
        },
        "trusted": true,
        "id": "eUNxfi2urBqW"
      },
      "execution_count": 60,
      "outputs": []
    },
    {
      "cell_type": "code",
      "source": [
        "for name,model in models:\n",
        "    model.fit(x_train,y_train)\n",
        "    y_test_predicted=model.predict(x_test)\n",
        "    accuracy=accuracy_score(y_test,y_test_predicted)\n",
        "    if accuracy > best_accuracy:\n",
        "        best_model= name\n",
        "        best_accuracy = accuracy"
      ],
      "metadata": {
        "execution": {
          "iopub.status.busy": "2024-06-12T12:10:01.727213Z",
          "iopub.execute_input": "2024-06-12T12:10:01.727663Z",
          "iopub.status.idle": "2024-06-12T12:10:12.476633Z",
          "shell.execute_reply.started": "2024-06-12T12:10:01.727622Z",
          "shell.execute_reply": "2024-06-12T12:10:12.475264Z"
        },
        "trusted": true,
        "id": "-Vg77HSWrBqW",
        "colab": {
          "base_uri": "https://localhost:8080/"
        },
        "outputId": "29fd1323-37f9-4425-9753-5aec0e5db079"
      },
      "execution_count": 61,
      "outputs": [
        {
          "output_type": "stream",
          "name": "stderr",
          "text": [
            "/usr/local/lib/python3.10/dist-packages/sklearn/neural_network/_multilayer_perceptron.py:686: ConvergenceWarning: Stochastic Optimizer: Maximum iterations (200) reached and the optimization hasn't converged yet.\n",
            "  warnings.warn(\n"
          ]
        },
        {
          "output_type": "stream",
          "name": "stdout",
          "text": [
            "[LightGBM] [Info] Number of positive: 560, number of negative: 3613\n",
            "[LightGBM] [Info] Auto-choosing col-wise multi-threading, the overhead of testing was 0.002639 seconds.\n",
            "You can set `force_col_wise=true` to remove the overhead.\n",
            "[LightGBM] [Info] Total Bins 5100\n",
            "[LightGBM] [Info] Number of data points in the train set: 4173, number of used features: 20\n",
            "[LightGBM] [Info] [binary:BoostFromScore]: pavg=0.134196 -> initscore=-1.864357\n",
            "[LightGBM] [Info] Start training from score -1.864357\n"
          ]
        }
      ]
    },
    {
      "cell_type": "markdown",
      "source": [
        "# RESULTS"
      ],
      "metadata": {
        "id": "K2H4Nj0urBqX"
      }
    },
    {
      "cell_type": "code",
      "source": [
        "print(best_model)\n",
        "print(best_accuracy)"
      ],
      "metadata": {
        "execution": {
          "iopub.status.busy": "2024-06-12T12:10:33.842566Z",
          "iopub.execute_input": "2024-06-12T12:10:33.843013Z",
          "iopub.status.idle": "2024-06-12T12:10:33.850892Z",
          "shell.execute_reply.started": "2024-06-12T12:10:33.842978Z",
          "shell.execute_reply": "2024-06-12T12:10:33.848901Z"
        },
        "trusted": true,
        "id": "JMqu4kN8rBqX",
        "colab": {
          "base_uri": "https://localhost:8080/"
        },
        "outputId": "2d50e8c6-d005-4351-b0e6-681782497022"
      },
      "execution_count": 62,
      "outputs": [
        {
          "output_type": "stream",
          "name": "stdout",
          "text": [
            "Extra Trees\n",
            "0.9633620689655172\n"
          ]
        }
      ]
    },
    {
      "cell_type": "code",
      "source": [
        "classifier = ExtraTreesClassifier()\n",
        "classifier.fit(x_train,y_train)\n",
        "y_predicted = classifier.predict(x_test)\n",
        "print(classification_report(y_test,y_predicted))\n",
        "cm = confusion_matrix(y_test,y_predicted)\n",
        "plt.figure(figsize=(8, 6))\n",
        "sbn.heatmap(cm, annot=True, cmap='cividis', fmt='g')\n",
        "plt.xlabel('Predicted labels')\n",
        "plt.ylabel('True labels')\n",
        "plt.title(\"confusion matrix for the best model\")\n",
        "plt.show()"
      ],
      "metadata": {
        "execution": {
          "iopub.status.busy": "2024-06-12T12:18:31.192335Z",
          "iopub.execute_input": "2024-06-12T12:18:31.192807Z",
          "iopub.status.idle": "2024-06-12T12:18:32.078513Z",
          "shell.execute_reply.started": "2024-06-12T12:18:31.192773Z",
          "shell.execute_reply": "2024-06-12T12:18:32.077284Z"
        },
        "trusted": true,
        "id": "8TZzIxkArBqY",
        "colab": {
          "base_uri": "https://localhost:8080/",
          "height": 728
        },
        "outputId": "f53ce252-0fd6-460e-b0a5-f19bd8bdf75f"
      },
      "execution_count": 63,
      "outputs": [
        {
          "output_type": "stream",
          "name": "stdout",
          "text": [
            "              precision    recall  f1-score   support\n",
            "\n",
            "           0       0.97      0.99      0.98      1205\n",
            "           1       0.90      0.78      0.84       187\n",
            "\n",
            "    accuracy                           0.96      1392\n",
            "   macro avg       0.93      0.88      0.91      1392\n",
            "weighted avg       0.96      0.96      0.96      1392\n",
            "\n"
          ]
        },
        {
          "output_type": "display_data",
          "data": {
            "text/plain": [
              "<Figure size 800x600 with 2 Axes>"
            ],
            "image/png": "[encoded data removed]"
          },
          "metadata": {}
        }
      ]
    },
    {
      "cell_type": "markdown",
      "source": [
        "# Using TF-IDF"
      ],
      "metadata": {
        "id": "Gl5OQcv7QkTD"
      }
    },
    {
      "cell_type": "code",
      "source": [
        "# Token Frequency(TF) - Inverse Document Frequency(IDF)\n",
        "# TF = Frequency of token in a Doc / Total number of words in a doc\n",
        "# DF = Number of Documents the token appears in\n",
        "# IDF = log(total number of documents / DF)\n",
        "# Scikit uses: IDF = log(n+1 / DF+1) + 1 to avoid division by zero error.\n",
        "# Why are we taking inverse DF. This is beacuse if a word appears in a lot of documents, it is a generic word. So, its score should be smaller in a classification model.\n",
        "# Log is used to dampen the effect of very high frequencies. If word1 appears 5 times and word2 appears 25 times, word2 is more significant.\n",
        "# But, if word1 appears 1 million times and word2 appears 2 million times, both are almost equally significant.\n",
        "# This concept is covered by the log.\n",
        "# TF-IDF = TF*IDF"
      ],
      "metadata": {
        "id": "WdK9y8ivrBqY"
      },
      "execution_count": 64,
      "outputs": []
    },
    {
      "cell_type": "code",
      "source": [
        "vectorizer = TfidfVectorizer()"
      ],
      "metadata": {
        "id": "apbFKVB4QuR_"
      },
      "execution_count": 65,
      "outputs": []
    },
    {
      "cell_type": "code",
      "source": [
        "X_train, X_test, Y_train, Y_test = train_test_split(\n",
        "    df.messages,\n",
        "    df.label,\n",
        "    test_size=0.25,\n",
        "    # random_state=2022,\n",
        "    stratify = df.label\n",
        ")"
      ],
      "metadata": {
        "id": "TVdSvLv8WmGZ"
      },
      "execution_count": 185,
      "outputs": []
    },
    {
      "cell_type": "code",
      "source": [
        "print(X_train.shape)\n",
        "print(X_test.shape)"
      ],
      "metadata": {
        "colab": {
          "base_uri": "https://localhost:8080/"
        },
        "id": "SKrd73NjWo-Z",
        "outputId": "7578eaa6-6db2-48ff-8219-b4fe9cb48116"
      },
      "execution_count": 159,
      "outputs": [
        {
          "output_type": "stream",
          "name": "stdout",
          "text": [
            "(4179,)\n",
            "(1393,)\n"
          ]
        }
      ]
    },
    {
      "cell_type": "code",
      "source": [
        "def custom_fit(name, model, X_train, Y_train, X_test):\n",
        "    clf = Pipeline([\n",
        "        ('vectorizer_tfidf',TfidfVectorizer()),\n",
        "        (name, model)\n",
        "    ])\n",
        "\n",
        "    clf.fit(X_train, Y_train)\n",
        "    Y_pred = clf.predict(X_test)\n",
        "    return Y_pred"
      ],
      "metadata": {
        "id": "6m41vJdtTxlb"
      },
      "execution_count": 160,
      "outputs": []
    },
    {
      "cell_type": "code",
      "source": [
        "best_model=\"\"\n",
        "best_accuracy=0"
      ],
      "metadata": {
        "id": "yvRhS7bIWUB5"
      },
      "execution_count": 175,
      "outputs": []
    },
    {
      "cell_type": "code",
      "source": [
        "for name,model in models:\n",
        "    print(name)\n",
        "    Y_test_predicted = custom_fit(name,model,X_train,Y_train,X_test)\n",
        "    accuracy = accuracy_score(Y_test,Y_test_predicted)\n",
        "    print(accuracy)\n",
        "    if accuracy > best_accuracy:\n",
        "        best_model = name\n",
        "        best_accuracy = accuracy"
      ],
      "metadata": {
        "colab": {
          "base_uri": "https://localhost:8080/"
        },
        "id": "SdWfz8RfbtpN",
        "outputId": "6eb66733-9081-4263-9085-af420e5e9b06"
      },
      "execution_count": 176,
      "outputs": [
        {
          "output_type": "stream",
          "name": "stdout",
          "text": [
            "Logistic Regression\n",
            "0.9662598707824839\n",
            "Decision Tree\n",
            "0.9504666188083274\n",
            "Random Forest\n",
            "0.9676956209619526\n",
            "Support Vector Machine\n",
            "0.9813352476669059\n",
            "K Nearest Neighbors\n",
            "0.8973438621679828\n",
            "Multi Layer Perceptron\n",
            "0.9834888729361091\n",
            "Extra Trees\n",
            "0.9791816223977028\n",
            "Stochastic Gradient Descent\n",
            "0.9870782483847811\n",
            "Cross Gradient Boost\n",
            "0.9705671213208902\n",
            "Cross Gradient Boost (Random Forest)\n",
            "0.9447236180904522\n",
            "LightGBM Classifier\n",
            "[LightGBM] [Info] Number of positive: 560, number of negative: 3619\n",
            "[LightGBM] [Info] Auto-choosing row-wise multi-threading, the overhead of testing was 0.014144 seconds.\n",
            "You can set `force_row_wise=true` to remove the overhead.\n",
            "And if memory is not enough, you can set `force_col_wise=true`.\n",
            "[LightGBM] [Info] Total Bins 12307\n",
            "[LightGBM] [Info] Number of data points in the train set: 4179, number of used features: 443\n",
            "[LightGBM] [Info] [binary:BoostFromScore]: pavg=0.134003 -> initscore=-1.866016\n",
            "[LightGBM] [Info] Start training from score -1.866016\n",
            "0.9763101220387652\n"
          ]
        }
      ]
    },
    {
      "cell_type": "code",
      "source": [
        "print(best_model)\n",
        "print(best_accuracy)"
      ],
      "metadata": {
        "colab": {
          "base_uri": "https://localhost:8080/"
        },
        "id": "DhkuAdYdb6RL",
        "outputId": "0907ca0e-4c42-43ac-f738-9a51f226f6fe"
      },
      "execution_count": 177,
      "outputs": [
        {
          "output_type": "stream",
          "name": "stdout",
          "text": [
            "Stochastic Gradient Descent\n",
            "0.9870782483847811\n"
          ]
        }
      ]
    },
    {
      "cell_type": "code",
      "source": [
        "Y_predicted = custom_fit('Stochastic Gradient Descent', SGDClassifier(), X_train, Y_train, X_test)\n",
        "accuracy=accuracy_score(Y_test,Y_predicted)\n",
        "print(classification_report(Y_test,Y_predicted))\n",
        "cm = confusion_matrix(Y_test,Y_predicted)\n",
        "plt.figure(figsize=(8, 6))\n",
        "sbn.heatmap(cm, annot=True, cmap='cividis', fmt='g')\n",
        "plt.xlabel('Predicted labels')\n",
        "plt.ylabel('True labels')\n",
        "plt.title(\"confusion matrix for the best model\")\n",
        "plt.show()"
      ],
      "metadata": {
        "colab": {
          "base_uri": "https://localhost:8080/",
          "height": 728
        },
        "id": "BJzReZI7b6ml",
        "outputId": "522f8491-a67b-4cbd-a710-3b6ea705617d"
      },
      "execution_count": 180,
      "outputs": [
        {
          "output_type": "stream",
          "name": "stdout",
          "text": [
            "              precision    recall  f1-score   support\n",
            "\n",
            "           0       0.99      1.00      0.99      1206\n",
            "           1       0.98      0.91      0.94       187\n",
            "\n",
            "    accuracy                           0.99      1393\n",
            "   macro avg       0.98      0.95      0.97      1393\n",
            "weighted avg       0.99      0.99      0.99      1393\n",
            "\n"
          ]
        },
        {
          "output_type": "display_data",
          "data": {
            "text/plain": [
              "<Figure size 800x600 with 2 Axes>"
            ],
            "image/png": "[encoded data removed]"
          },
          "metadata": {}
        }
      ]
    },
    {
      "cell_type": "markdown",
      "source": [
        "# Using RNN (LSTM)"
      ],
      "metadata": {
        "id": "Ei1A428MdAXX"
      }
    },
    {
      "cell_type": "code",
      "source": [
        "# number of words used as features\n",
        "max_features = 8000\n",
        "# cut off the words after seeing 500 words in each document(email)\n",
        "maxlen = 500\n",
        "\n",
        "tokenizer = Tokenizer()\n",
        "tokenizer.fit_on_texts(sentences)\n",
        "sequences = tokenizer.texts_to_sequences(sentences)\n",
        "\n",
        "word_index = tokenizer.word_index\n",
        "print(\"Found {0} unique words: \".format(len(word_index)))\n",
        "\n",
        "data = pad_sequences(sequences, maxlen=maxlen)\n",
        "\n",
        "print(\"data shape: \", data.shape)"
      ],
      "metadata": {
        "colab": {
          "base_uri": "https://localhost:8080/"
        },
        "id": "fV2KqzLRiRBN",
        "outputId": "ec5708ea-83bd-4738-d9bf-3a15772540eb"
      },
      "execution_count": 231,
      "outputs": [
        {
          "output_type": "stream",
          "name": "stdout",
          "text": [
            "Found 7222 unique words: \n",
            "data shape:  (5565, 500)\n"
          ]
        }
      ]
    },
    {
      "cell_type": "code",
      "source": [
        "x_train, x_test, y_train, y_test = train_test_split(\n",
        "    np.array(data),\n",
        "    np.array(Y),\n",
        "    test_size=0.25,\n",
        "    # random_state=2022,\n",
        "    stratify = np.array(Y)\n",
        ")"
      ],
      "metadata": {
        "id": "mZKFx3yxjvxN"
      },
      "execution_count": 232,
      "outputs": []
    },
    {
      "cell_type": "code",
      "source": [
        "model = Sequential()\n",
        "model.add(Embedding(max_features, 32))\n",
        "model.add(LSTM(32))\n",
        "model.add(Dense(1, activation='sigmoid'))\n",
        "model.compile(optimizer='rmsprop', loss='binary_crossentropy', metrics=['acc'])"
      ],
      "metadata": {
        "id": "JQLZS5olZqym"
      },
      "execution_count": 233,
      "outputs": []
    },
    {
      "cell_type": "code",
      "source": [
        "history_ltsm = model.fit(x_train, y_train, epochs=10, batch_size=60, validation_split=0.2)"
      ],
      "metadata": {
        "colab": {
          "base_uri": "https://localhost:8080/"
        },
        "id": "WbB-NfQfeNUQ",
        "outputId": "7bb99f1a-8733-4eab-f402-5a93bf5b03cc"
      },
      "execution_count": 234,
      "outputs": [
        {
          "output_type": "stream",
          "name": "stdout",
          "text": [
            "Epoch 1/10\n",
            "56/56 [==============================] - 24s 392ms/step - loss: 0.3638 - acc: 0.8703 - val_loss: 0.2201 - val_acc: 0.9377\n",
            "Epoch 2/10\n",
            "56/56 [==============================] - 15s 268ms/step - loss: 0.1568 - acc: 0.9575 - val_loss: 0.1117 - val_acc: 0.9749\n",
            "Epoch 3/10\n",
            "56/56 [==============================] - 15s 266ms/step - loss: 0.0870 - acc: 0.9820 - val_loss: 0.0643 - val_acc: 0.9844\n",
            "Epoch 4/10\n",
            "56/56 [==============================] - 16s 292ms/step - loss: 0.0539 - acc: 0.9880 - val_loss: 0.0453 - val_acc: 0.9880\n",
            "Epoch 5/10\n",
            "56/56 [==============================] - 15s 263ms/step - loss: 0.0361 - acc: 0.9910 - val_loss: 0.0389 - val_acc: 0.9868\n",
            "Epoch 6/10\n",
            "56/56 [==============================] - 15s 266ms/step - loss: 0.0256 - acc: 0.9955 - val_loss: 0.0380 - val_acc: 0.9868\n",
            "Epoch 7/10\n",
            "56/56 [==============================] - 15s 272ms/step - loss: 0.0458 - acc: 0.9847 - val_loss: 0.0486 - val_acc: 0.9892\n",
            "Epoch 8/10\n",
            "56/56 [==============================] - 15s 272ms/step - loss: 0.0233 - acc: 0.9937 - val_loss: 0.0373 - val_acc: 0.9892\n",
            "Epoch 9/10\n",
            "56/56 [==============================] - 15s 272ms/step - loss: 0.0126 - acc: 0.9976 - val_loss: 0.0376 - val_acc: 0.9892\n",
            "Epoch 10/10\n",
            "56/56 [==============================] - 20s 354ms/step - loss: 0.0117 - acc: 0.9973 - val_loss: 0.0381 - val_acc: 0.9856\n"
          ]
        }
      ]
    },
    {
      "cell_type": "code",
      "source": [
        "acc = history_ltsm.history['acc']\n",
        "val_acc = history_ltsm.history['val_acc']\n",
        "loss = history_ltsm.history['loss']\n",
        "val_loss = history_ltsm.history['val_loss']\n",
        "epochs = range(len(acc))\n",
        "plt.plot(epochs, acc, '-', color='orange', label='training acc')\n",
        "plt.plot(epochs, val_acc, '-', color='blue', label='validation acc')\n",
        "plt.title('Training and validation accuracy')\n",
        "plt.legend()\n",
        "plt.show()\n",
        "\n",
        "plt.plot(epochs, loss, '-', color='orange', label='training acc')\n",
        "plt.plot(epochs, val_loss,  '-', color='blue', label='validation acc')\n",
        "plt.title('Training and validation loss')\n",
        "plt.legend()\n",
        "plt.show()"
      ],
      "metadata": {
        "colab": {
          "base_uri": "https://localhost:8080/",
          "height": 887
        },
        "id": "iubwNvbhna2L",
        "outputId": "4d7e01e2-69f2-4d57-ee57-73df33b593e0"
      },
      "execution_count": 235,
      "outputs": [
        {
          "output_type": "display_data",
          "data": {
            "text/plain": [
              "<Figure size 640x480 with 1 Axes>"
            ],
            "image/png": "[encoded data removed]"
          },
          "metadata": {}
        },
        {
          "output_type": "display_data",
          "data": {
            "text/plain": [
              "<Figure size 640x480 with 1 Axes>"
            ],
            "image/png": "[encoded data removed]"
          },
          "metadata": {}
        }
      ]
    },
    {
      "cell_type": "code",
      "source": [
        "predict_proba = model.predict(x_test)\n",
        "pred = np.argmax(predict_proba, axis=-1)\n",
        "acc = model.evaluate(x_test, y_test)\n",
        "from sklearn.metrics import confusion_matrix\n",
        "print(\"Test loss is {0:.2f} accuracy is {1:.3f}  \".format(acc[0],acc[1]))"
      ],
      "metadata": {
        "colab": {
          "base_uri": "https://localhost:8080/"
        },
        "id": "CIlJiVEhnowe",
        "outputId": "62365c7d-c726-47fd-eeb9-1e21e3febe06"
      },
      "execution_count": 238,
      "outputs": [
        {
          "output_type": "stream",
          "name": "stdout",
          "text": [
            "44/44 [==============================] - 5s 117ms/step\n",
            "44/44 [==============================] - 5s 110ms/step - loss: 0.0364 - acc: 0.9885\n",
            "Test loss is 0.04 accuracy is 0.989  \n"
          ]
        }
      ]
    }
  ]
}